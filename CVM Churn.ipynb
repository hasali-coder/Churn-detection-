{
 "cells": [
  {
   "cell_type": "code",
   "execution_count": 2,
   "metadata": {},
   "outputs": [],
   "source": [
    "import pandas as pd\n",
    "import numpy as np \n",
    "import matplotlib.pyplot as plt \n",
    "import plotly.express as px \n",
    "import warnings\n",
    "import seaborn as sns "
   ]
  },
  {
   "cell_type": "code",
   "execution_count": 3,
   "metadata": {},
   "outputs": [
    {
     "data": {
      "text/plain": [
       "'C:\\\\Users\\\\CMuasya'"
      ]
     },
     "execution_count": 3,
     "metadata": {},
     "output_type": "execute_result"
    }
   ],
   "source": [
    "pwd"
   ]
  },
  {
   "cell_type": "code",
   "execution_count": 4,
   "metadata": {},
   "outputs": [],
   "source": [
    "train = pd.read_csv('C:\\\\Users\\\\CMuasya\\\\downloads\\\\train_df.csv')"
   ]
  },
  {
   "cell_type": "code",
   "execution_count": 5,
   "metadata": {},
   "outputs": [
    {
     "data": {
      "text/html": [
       "<div>\n",
       "<style scoped>\n",
       "    .dataframe tbody tr th:only-of-type {\n",
       "        vertical-align: middle;\n",
       "    }\n",
       "\n",
       "    .dataframe tbody tr th {\n",
       "        vertical-align: top;\n",
       "    }\n",
       "\n",
       "    .dataframe thead th {\n",
       "        text-align: right;\n",
       "    }\n",
       "</style>\n",
       "<table border=\"1\" class=\"dataframe\">\n",
       "  <thead>\n",
       "    <tr style=\"text-align: right;\">\n",
       "      <th></th>\n",
       "      <th>MSISDN</th>\n",
       "      <th>var1m0</th>\n",
       "      <th>var2m0</th>\n",
       "      <th>var2m1</th>\n",
       "      <th>var2m2</th>\n",
       "      <th>var3m0</th>\n",
       "      <th>var3m1</th>\n",
       "      <th>var3m2</th>\n",
       "      <th>var4m0</th>\n",
       "      <th>var4m1</th>\n",
       "      <th>var4m2</th>\n",
       "      <th>churn</th>\n",
       "    </tr>\n",
       "  </thead>\n",
       "  <tbody>\n",
       "    <tr>\n",
       "      <th>0</th>\n",
       "      <td>e6402a0621a1008e24ff649ca130f816a874ffa8c3fbb2...</td>\n",
       "      <td>9.0</td>\n",
       "      <td>36.0</td>\n",
       "      <td>181.0</td>\n",
       "      <td>81.000</td>\n",
       "      <td>9.0</td>\n",
       "      <td>18.0</td>\n",
       "      <td>14.0</td>\n",
       "      <td>172.368667</td>\n",
       "      <td>684.668768</td>\n",
       "      <td>322.631274</td>\n",
       "      <td>0</td>\n",
       "    </tr>\n",
       "    <tr>\n",
       "      <th>1</th>\n",
       "      <td>a820530bf21d74af4addc892802ef353a5a50a4ee67e2c...</td>\n",
       "      <td>30.0</td>\n",
       "      <td>380.0</td>\n",
       "      <td>490.0</td>\n",
       "      <td>340.000</td>\n",
       "      <td>30.0</td>\n",
       "      <td>30.0</td>\n",
       "      <td>29.0</td>\n",
       "      <td>2020.364353</td>\n",
       "      <td>2557.849309</td>\n",
       "      <td>1850.967384</td>\n",
       "      <td>0</td>\n",
       "    </tr>\n",
       "    <tr>\n",
       "      <th>2</th>\n",
       "      <td>5d1f0c6b460d3b28d91a37dcb095dc528ea89e715fc23d...</td>\n",
       "      <td>30.0</td>\n",
       "      <td>10.0</td>\n",
       "      <td>40.0</td>\n",
       "      <td>50.000</td>\n",
       "      <td>18.0</td>\n",
       "      <td>4.0</td>\n",
       "      <td>5.0</td>\n",
       "      <td>1.464215</td>\n",
       "      <td>0.000000</td>\n",
       "      <td>0.000000</td>\n",
       "      <td>0</td>\n",
       "    </tr>\n",
       "    <tr>\n",
       "      <th>3</th>\n",
       "      <td>f6c4e8f5bd2094a1208ccb9c9cba34057d3c888771208f...</td>\n",
       "      <td>28.0</td>\n",
       "      <td>199.0</td>\n",
       "      <td>170.0</td>\n",
       "      <td>147.000</td>\n",
       "      <td>27.0</td>\n",
       "      <td>21.0</td>\n",
       "      <td>28.0</td>\n",
       "      <td>196.165514</td>\n",
       "      <td>107.077169</td>\n",
       "      <td>113.009810</td>\n",
       "      <td>0</td>\n",
       "    </tr>\n",
       "    <tr>\n",
       "      <th>4</th>\n",
       "      <td>8d381167df78d8cd6844eb85d5271073fd703d3f3b9832...</td>\n",
       "      <td>30.0</td>\n",
       "      <td>0.0</td>\n",
       "      <td>0.0</td>\n",
       "      <td>89.607</td>\n",
       "      <td>30.0</td>\n",
       "      <td>26.0</td>\n",
       "      <td>27.0</td>\n",
       "      <td>1618.556483</td>\n",
       "      <td>1549.379331</td>\n",
       "      <td>1410.695167</td>\n",
       "      <td>0</td>\n",
       "    </tr>\n",
       "  </tbody>\n",
       "</table>\n",
       "</div>"
      ],
      "text/plain": [
       "                                              MSISDN  var1m0  var2m0  var2m1  \\\n",
       "0  e6402a0621a1008e24ff649ca130f816a874ffa8c3fbb2...     9.0    36.0   181.0   \n",
       "1  a820530bf21d74af4addc892802ef353a5a50a4ee67e2c...    30.0   380.0   490.0   \n",
       "2  5d1f0c6b460d3b28d91a37dcb095dc528ea89e715fc23d...    30.0    10.0    40.0   \n",
       "3  f6c4e8f5bd2094a1208ccb9c9cba34057d3c888771208f...    28.0   199.0   170.0   \n",
       "4  8d381167df78d8cd6844eb85d5271073fd703d3f3b9832...    30.0     0.0     0.0   \n",
       "\n",
       "    var2m2  var3m0  var3m1  var3m2       var4m0       var4m1       var4m2  \\\n",
       "0   81.000     9.0    18.0    14.0   172.368667   684.668768   322.631274   \n",
       "1  340.000    30.0    30.0    29.0  2020.364353  2557.849309  1850.967384   \n",
       "2   50.000    18.0     4.0     5.0     1.464215     0.000000     0.000000   \n",
       "3  147.000    27.0    21.0    28.0   196.165514   107.077169   113.009810   \n",
       "4   89.607    30.0    26.0    27.0  1618.556483  1549.379331  1410.695167   \n",
       "\n",
       "   churn  \n",
       "0      0  \n",
       "1      0  \n",
       "2      0  \n",
       "3      0  \n",
       "4      0  "
      ]
     },
     "execution_count": 5,
     "metadata": {},
     "output_type": "execute_result"
    }
   ],
   "source": [
    "train.head()"
   ]
  },
  {
   "cell_type": "code",
   "execution_count": 6,
   "metadata": {},
   "outputs": [
    {
     "data": {
      "text/plain": [
       "MSISDN     object\n",
       "var1m0    float64\n",
       "var2m0    float64\n",
       "var2m1    float64\n",
       "var2m2    float64\n",
       "var3m0    float64\n",
       "var3m1    float64\n",
       "var3m2    float64\n",
       "var4m0    float64\n",
       "var4m1    float64\n",
       "var4m2    float64\n",
       "churn       int64\n",
       "dtype: object"
      ]
     },
     "execution_count": 6,
     "metadata": {},
     "output_type": "execute_result"
    }
   ],
   "source": [
    "train.dtypes"
   ]
  },
  {
   "cell_type": "code",
   "execution_count": 7,
   "metadata": {},
   "outputs": [
    {
     "data": {
      "text/plain": [
       "(100800, 12)"
      ]
     },
     "execution_count": 7,
     "metadata": {},
     "output_type": "execute_result"
    }
   ],
   "source": [
    "train.shape"
   ]
  },
  {
   "cell_type": "code",
   "execution_count": 8,
   "metadata": {},
   "outputs": [
    {
     "name": "stdout",
     "output_type": "stream",
     "text": [
      "<class 'pandas.core.frame.DataFrame'>\n",
      "RangeIndex: 100800 entries, 0 to 100799\n",
      "Data columns (total 12 columns):\n",
      " #   Column  Non-Null Count   Dtype  \n",
      "---  ------  --------------   -----  \n",
      " 0   MSISDN  100800 non-null  object \n",
      " 1   var1m0  95422 non-null   float64\n",
      " 2   var2m0  61499 non-null   float64\n",
      " 3   var2m1  64251 non-null   float64\n",
      " 4   var2m2  67184 non-null   float64\n",
      " 5   var3m0  95422 non-null   float64\n",
      " 6   var3m1  95422 non-null   float64\n",
      " 7   var3m2  95422 non-null   float64\n",
      " 8   var4m0  61499 non-null   float64\n",
      " 9   var4m1  64251 non-null   float64\n",
      " 10  var4m2  67184 non-null   float64\n",
      " 11  churn   100800 non-null  int64  \n",
      "dtypes: float64(10), int64(1), object(1)\n",
      "memory usage: 9.2+ MB\n"
     ]
    }
   ],
   "source": [
    "train.info()"
   ]
  },
  {
   "cell_type": "markdown",
   "metadata": {},
   "source": [
    "# Data Cleaning"
   ]
  },
  {
   "cell_type": "code",
   "execution_count": 9,
   "metadata": {},
   "outputs": [
    {
     "data": {
      "text/plain": [
       "MSISDN        0\n",
       "var1m0     5378\n",
       "var2m0    39301\n",
       "var2m1    36549\n",
       "var2m2    33616\n",
       "var3m0     5378\n",
       "var3m1     5378\n",
       "var3m2     5378\n",
       "var4m0    39301\n",
       "var4m1    36549\n",
       "var4m2    33616\n",
       "churn         0\n",
       "dtype: int64"
      ]
     },
     "execution_count": 9,
     "metadata": {},
     "output_type": "execute_result"
    }
   ],
   "source": [
    "train.isnull().sum()"
   ]
  },
  {
   "cell_type": "code",
   "execution_count": 10,
   "metadata": {},
   "outputs": [
    {
     "data": {
      "text/html": [
       "<div>\n",
       "<style scoped>\n",
       "    .dataframe tbody tr th:only-of-type {\n",
       "        vertical-align: middle;\n",
       "    }\n",
       "\n",
       "    .dataframe tbody tr th {\n",
       "        vertical-align: top;\n",
       "    }\n",
       "\n",
       "    .dataframe thead th {\n",
       "        text-align: right;\n",
       "    }\n",
       "</style>\n",
       "<table border=\"1\" class=\"dataframe\">\n",
       "  <thead>\n",
       "    <tr style=\"text-align: right;\">\n",
       "      <th></th>\n",
       "      <th>MSISDN</th>\n",
       "      <th>var1m0</th>\n",
       "      <th>var2m0</th>\n",
       "      <th>var2m1</th>\n",
       "      <th>var2m2</th>\n",
       "      <th>var3m0</th>\n",
       "      <th>var3m1</th>\n",
       "      <th>var3m2</th>\n",
       "      <th>var4m0</th>\n",
       "      <th>var4m1</th>\n",
       "      <th>var4m2</th>\n",
       "      <th>churn</th>\n",
       "    </tr>\n",
       "  </thead>\n",
       "  <tbody>\n",
       "    <tr>\n",
       "      <th>0</th>\n",
       "      <td>e6402a0621a1008e24ff649ca130f816a874ffa8c3fbb2...</td>\n",
       "      <td>9.0</td>\n",
       "      <td>36.0</td>\n",
       "      <td>181.0</td>\n",
       "      <td>81.000</td>\n",
       "      <td>9.0</td>\n",
       "      <td>18.0</td>\n",
       "      <td>14.0</td>\n",
       "      <td>172.368667</td>\n",
       "      <td>684.668768</td>\n",
       "      <td>322.631274</td>\n",
       "      <td>0</td>\n",
       "    </tr>\n",
       "    <tr>\n",
       "      <th>1</th>\n",
       "      <td>a820530bf21d74af4addc892802ef353a5a50a4ee67e2c...</td>\n",
       "      <td>30.0</td>\n",
       "      <td>380.0</td>\n",
       "      <td>490.0</td>\n",
       "      <td>340.000</td>\n",
       "      <td>30.0</td>\n",
       "      <td>30.0</td>\n",
       "      <td>29.0</td>\n",
       "      <td>2020.364353</td>\n",
       "      <td>2557.849309</td>\n",
       "      <td>1850.967384</td>\n",
       "      <td>0</td>\n",
       "    </tr>\n",
       "    <tr>\n",
       "      <th>2</th>\n",
       "      <td>5d1f0c6b460d3b28d91a37dcb095dc528ea89e715fc23d...</td>\n",
       "      <td>30.0</td>\n",
       "      <td>10.0</td>\n",
       "      <td>40.0</td>\n",
       "      <td>50.000</td>\n",
       "      <td>18.0</td>\n",
       "      <td>4.0</td>\n",
       "      <td>5.0</td>\n",
       "      <td>1.464215</td>\n",
       "      <td>0.000000</td>\n",
       "      <td>0.000000</td>\n",
       "      <td>0</td>\n",
       "    </tr>\n",
       "    <tr>\n",
       "      <th>3</th>\n",
       "      <td>f6c4e8f5bd2094a1208ccb9c9cba34057d3c888771208f...</td>\n",
       "      <td>28.0</td>\n",
       "      <td>199.0</td>\n",
       "      <td>170.0</td>\n",
       "      <td>147.000</td>\n",
       "      <td>27.0</td>\n",
       "      <td>21.0</td>\n",
       "      <td>28.0</td>\n",
       "      <td>196.165514</td>\n",
       "      <td>107.077169</td>\n",
       "      <td>113.009810</td>\n",
       "      <td>0</td>\n",
       "    </tr>\n",
       "    <tr>\n",
       "      <th>4</th>\n",
       "      <td>8d381167df78d8cd6844eb85d5271073fd703d3f3b9832...</td>\n",
       "      <td>30.0</td>\n",
       "      <td>0.0</td>\n",
       "      <td>0.0</td>\n",
       "      <td>89.607</td>\n",
       "      <td>30.0</td>\n",
       "      <td>26.0</td>\n",
       "      <td>27.0</td>\n",
       "      <td>1618.556483</td>\n",
       "      <td>1549.379331</td>\n",
       "      <td>1410.695167</td>\n",
       "      <td>0</td>\n",
       "    </tr>\n",
       "    <tr>\n",
       "      <th>...</th>\n",
       "      <td>...</td>\n",
       "      <td>...</td>\n",
       "      <td>...</td>\n",
       "      <td>...</td>\n",
       "      <td>...</td>\n",
       "      <td>...</td>\n",
       "      <td>...</td>\n",
       "      <td>...</td>\n",
       "      <td>...</td>\n",
       "      <td>...</td>\n",
       "      <td>...</td>\n",
       "      <td>...</td>\n",
       "    </tr>\n",
       "    <tr>\n",
       "      <th>100682</th>\n",
       "      <td>bb7ac98fc4043cff6ec094d32c8bc85fcc1ab120d73c2d...</td>\n",
       "      <td>30.0</td>\n",
       "      <td>0.0</td>\n",
       "      <td>0.0</td>\n",
       "      <td>0.000</td>\n",
       "      <td>24.0</td>\n",
       "      <td>16.0</td>\n",
       "      <td>20.0</td>\n",
       "      <td>3619.731009</td>\n",
       "      <td>0.008487</td>\n",
       "      <td>1073.625340</td>\n",
       "      <td>1</td>\n",
       "    </tr>\n",
       "    <tr>\n",
       "      <th>100690</th>\n",
       "      <td>1445dd64a313e5813e149d4feaa0621c02d231c8286348...</td>\n",
       "      <td>23.0</td>\n",
       "      <td>0.0</td>\n",
       "      <td>0.0</td>\n",
       "      <td>0.000</td>\n",
       "      <td>12.0</td>\n",
       "      <td>14.0</td>\n",
       "      <td>20.0</td>\n",
       "      <td>369.794298</td>\n",
       "      <td>264.630440</td>\n",
       "      <td>18.616520</td>\n",
       "      <td>1</td>\n",
       "    </tr>\n",
       "    <tr>\n",
       "      <th>100735</th>\n",
       "      <td>6c6bc61f34b3b22a2e70ec1d015af6e810940ef588a6b0...</td>\n",
       "      <td>30.0</td>\n",
       "      <td>0.0</td>\n",
       "      <td>0.0</td>\n",
       "      <td>0.000</td>\n",
       "      <td>29.0</td>\n",
       "      <td>30.0</td>\n",
       "      <td>29.0</td>\n",
       "      <td>5944.022512</td>\n",
       "      <td>6588.261904</td>\n",
       "      <td>8066.980116</td>\n",
       "      <td>1</td>\n",
       "    </tr>\n",
       "    <tr>\n",
       "      <th>100775</th>\n",
       "      <td>143e4b6514195bd34644e51295e3f1f9092dc3c3da67d5...</td>\n",
       "      <td>30.0</td>\n",
       "      <td>0.0</td>\n",
       "      <td>0.0</td>\n",
       "      <td>0.000</td>\n",
       "      <td>30.0</td>\n",
       "      <td>29.0</td>\n",
       "      <td>30.0</td>\n",
       "      <td>2501.144776</td>\n",
       "      <td>3890.682934</td>\n",
       "      <td>3021.885468</td>\n",
       "      <td>1</td>\n",
       "    </tr>\n",
       "    <tr>\n",
       "      <th>100781</th>\n",
       "      <td>67fec97c96b44f9e68ad45d00fea4482a78e079a806b4e...</td>\n",
       "      <td>17.0</td>\n",
       "      <td>60.0</td>\n",
       "      <td>30.0</td>\n",
       "      <td>20.000</td>\n",
       "      <td>6.0</td>\n",
       "      <td>3.0</td>\n",
       "      <td>2.0</td>\n",
       "      <td>0.000000</td>\n",
       "      <td>0.000000</td>\n",
       "      <td>0.000000</td>\n",
       "      <td>1</td>\n",
       "    </tr>\n",
       "  </tbody>\n",
       "</table>\n",
       "<p>50172 rows × 12 columns</p>\n",
       "</div>"
      ],
      "text/plain": [
       "                                                   MSISDN  var1m0  var2m0  \\\n",
       "0       e6402a0621a1008e24ff649ca130f816a874ffa8c3fbb2...     9.0    36.0   \n",
       "1       a820530bf21d74af4addc892802ef353a5a50a4ee67e2c...    30.0   380.0   \n",
       "2       5d1f0c6b460d3b28d91a37dcb095dc528ea89e715fc23d...    30.0    10.0   \n",
       "3       f6c4e8f5bd2094a1208ccb9c9cba34057d3c888771208f...    28.0   199.0   \n",
       "4       8d381167df78d8cd6844eb85d5271073fd703d3f3b9832...    30.0     0.0   \n",
       "...                                                   ...     ...     ...   \n",
       "100682  bb7ac98fc4043cff6ec094d32c8bc85fcc1ab120d73c2d...    30.0     0.0   \n",
       "100690  1445dd64a313e5813e149d4feaa0621c02d231c8286348...    23.0     0.0   \n",
       "100735  6c6bc61f34b3b22a2e70ec1d015af6e810940ef588a6b0...    30.0     0.0   \n",
       "100775  143e4b6514195bd34644e51295e3f1f9092dc3c3da67d5...    30.0     0.0   \n",
       "100781  67fec97c96b44f9e68ad45d00fea4482a78e079a806b4e...    17.0    60.0   \n",
       "\n",
       "        var2m1   var2m2  var3m0  var3m1  var3m2       var4m0       var4m1  \\\n",
       "0        181.0   81.000     9.0    18.0    14.0   172.368667   684.668768   \n",
       "1        490.0  340.000    30.0    30.0    29.0  2020.364353  2557.849309   \n",
       "2         40.0   50.000    18.0     4.0     5.0     1.464215     0.000000   \n",
       "3        170.0  147.000    27.0    21.0    28.0   196.165514   107.077169   \n",
       "4          0.0   89.607    30.0    26.0    27.0  1618.556483  1549.379331   \n",
       "...        ...      ...     ...     ...     ...          ...          ...   \n",
       "100682     0.0    0.000    24.0    16.0    20.0  3619.731009     0.008487   \n",
       "100690     0.0    0.000    12.0    14.0    20.0   369.794298   264.630440   \n",
       "100735     0.0    0.000    29.0    30.0    29.0  5944.022512  6588.261904   \n",
       "100775     0.0    0.000    30.0    29.0    30.0  2501.144776  3890.682934   \n",
       "100781    30.0   20.000     6.0     3.0     2.0     0.000000     0.000000   \n",
       "\n",
       "             var4m2  churn  \n",
       "0        322.631274      0  \n",
       "1       1850.967384      0  \n",
       "2          0.000000      0  \n",
       "3        113.009810      0  \n",
       "4       1410.695167      0  \n",
       "...             ...    ...  \n",
       "100682  1073.625340      1  \n",
       "100690    18.616520      1  \n",
       "100735  8066.980116      1  \n",
       "100775  3021.885468      1  \n",
       "100781     0.000000      1  \n",
       "\n",
       "[50172 rows x 12 columns]"
      ]
     },
     "execution_count": 10,
     "metadata": {},
     "output_type": "execute_result"
    }
   ],
   "source": [
    "train_clean = train.dropna(axis=0)\n",
    "train_clean"
   ]
  },
  {
   "cell_type": "code",
   "execution_count": 11,
   "metadata": {},
   "outputs": [
    {
     "data": {
      "text/plain": [
       "MSISDN    0\n",
       "var1m0    0\n",
       "var2m0    0\n",
       "var2m1    0\n",
       "var2m2    0\n",
       "var3m0    0\n",
       "var3m1    0\n",
       "var3m2    0\n",
       "var4m0    0\n",
       "var4m1    0\n",
       "var4m2    0\n",
       "churn     0\n",
       "dtype: int64"
      ]
     },
     "execution_count": 11,
     "metadata": {},
     "output_type": "execute_result"
    }
   ],
   "source": [
    "train_clean.isnull().sum()"
   ]
  },
  {
   "cell_type": "code",
   "execution_count": 12,
   "metadata": {},
   "outputs": [
    {
     "data": {
      "text/html": [
       "<div>\n",
       "<style scoped>\n",
       "    .dataframe tbody tr th:only-of-type {\n",
       "        vertical-align: middle;\n",
       "    }\n",
       "\n",
       "    .dataframe tbody tr th {\n",
       "        vertical-align: top;\n",
       "    }\n",
       "\n",
       "    .dataframe thead th {\n",
       "        text-align: right;\n",
       "    }\n",
       "</style>\n",
       "<table border=\"1\" class=\"dataframe\">\n",
       "  <thead>\n",
       "    <tr style=\"text-align: right;\">\n",
       "      <th></th>\n",
       "      <th>MSISDN</th>\n",
       "      <th>var1m0</th>\n",
       "      <th>var2m0</th>\n",
       "      <th>var2m1</th>\n",
       "      <th>var2m2</th>\n",
       "      <th>var3m0</th>\n",
       "      <th>var3m1</th>\n",
       "      <th>var3m2</th>\n",
       "      <th>var4m0</th>\n",
       "      <th>var4m1</th>\n",
       "      <th>var4m2</th>\n",
       "      <th>churn</th>\n",
       "    </tr>\n",
       "  </thead>\n",
       "  <tbody>\n",
       "    <tr>\n",
       "      <th>704</th>\n",
       "      <td>eb79afb22127060175769a73041de6f88f3b5d4fb55950...</td>\n",
       "      <td>30.0</td>\n",
       "      <td>0.0000</td>\n",
       "      <td>0.0000</td>\n",
       "      <td>0.0000</td>\n",
       "      <td>26.0</td>\n",
       "      <td>29.0</td>\n",
       "      <td>29.0</td>\n",
       "      <td>704.007869</td>\n",
       "      <td>145.147002</td>\n",
       "      <td>1466.098048</td>\n",
       "      <td>0</td>\n",
       "    </tr>\n",
       "    <tr>\n",
       "      <th>1792</th>\n",
       "      <td>0fdc74632c28c6cc869066c4671a84b0c11013d22d2973...</td>\n",
       "      <td>25.0</td>\n",
       "      <td>0.0000</td>\n",
       "      <td>0.0000</td>\n",
       "      <td>0.0000</td>\n",
       "      <td>9.0</td>\n",
       "      <td>7.0</td>\n",
       "      <td>7.0</td>\n",
       "      <td>1.891281</td>\n",
       "      <td>0.211710</td>\n",
       "      <td>0.114825</td>\n",
       "      <td>0</td>\n",
       "    </tr>\n",
       "    <tr>\n",
       "      <th>4217</th>\n",
       "      <td>58be29ee2d9a598482c0ca1555a68697d5788495ac31b6...</td>\n",
       "      <td>30.0</td>\n",
       "      <td>0.0000</td>\n",
       "      <td>0.0000</td>\n",
       "      <td>0.0000</td>\n",
       "      <td>30.0</td>\n",
       "      <td>30.0</td>\n",
       "      <td>29.0</td>\n",
       "      <td>18920.904810</td>\n",
       "      <td>19048.590060</td>\n",
       "      <td>17080.199560</td>\n",
       "      <td>0</td>\n",
       "    </tr>\n",
       "    <tr>\n",
       "      <th>4295</th>\n",
       "      <td>d9658b8da1924044c68141c48be70b5f5d8143b0720172...</td>\n",
       "      <td>30.0</td>\n",
       "      <td>0.0000</td>\n",
       "      <td>0.0000</td>\n",
       "      <td>0.0000</td>\n",
       "      <td>19.0</td>\n",
       "      <td>18.0</td>\n",
       "      <td>24.0</td>\n",
       "      <td>246.691515</td>\n",
       "      <td>725.460001</td>\n",
       "      <td>1051.890407</td>\n",
       "      <td>0</td>\n",
       "    </tr>\n",
       "    <tr>\n",
       "      <th>14059</th>\n",
       "      <td>72373e85604f6fce9ba10cf7ade98fc570bf2951c1c045...</td>\n",
       "      <td>30.0</td>\n",
       "      <td>0.0000</td>\n",
       "      <td>60.0000</td>\n",
       "      <td>0.0000</td>\n",
       "      <td>4.0</td>\n",
       "      <td>8.0</td>\n",
       "      <td>21.0</td>\n",
       "      <td>425.642860</td>\n",
       "      <td>1090.128726</td>\n",
       "      <td>3151.398569</td>\n",
       "      <td>0</td>\n",
       "    </tr>\n",
       "    <tr>\n",
       "      <th>17162</th>\n",
       "      <td>7aa44a513037d617452d053e0f8f00a9ad1016fe0c7acf...</td>\n",
       "      <td>25.0</td>\n",
       "      <td>36.0000</td>\n",
       "      <td>0.0000</td>\n",
       "      <td>20.0000</td>\n",
       "      <td>14.0</td>\n",
       "      <td>6.0</td>\n",
       "      <td>11.0</td>\n",
       "      <td>712.613996</td>\n",
       "      <td>60.761329</td>\n",
       "      <td>161.026414</td>\n",
       "      <td>0</td>\n",
       "    </tr>\n",
       "    <tr>\n",
       "      <th>32853</th>\n",
       "      <td>9088218725a91e2d5582470581d77b6e7843cbccbb4f84...</td>\n",
       "      <td>24.0</td>\n",
       "      <td>0.0000</td>\n",
       "      <td>0.0000</td>\n",
       "      <td>60.0000</td>\n",
       "      <td>14.0</td>\n",
       "      <td>30.0</td>\n",
       "      <td>23.0</td>\n",
       "      <td>110.729266</td>\n",
       "      <td>250.515447</td>\n",
       "      <td>151.326050</td>\n",
       "      <td>0</td>\n",
       "    </tr>\n",
       "    <tr>\n",
       "      <th>33112</th>\n",
       "      <td>274fb720b62722179e7ea70b78c1628cd5767564676ddd...</td>\n",
       "      <td>30.0</td>\n",
       "      <td>0.0000</td>\n",
       "      <td>0.0000</td>\n",
       "      <td>0.0000</td>\n",
       "      <td>30.0</td>\n",
       "      <td>27.0</td>\n",
       "      <td>29.0</td>\n",
       "      <td>1839.283643</td>\n",
       "      <td>858.116180</td>\n",
       "      <td>1035.054111</td>\n",
       "      <td>0</td>\n",
       "    </tr>\n",
       "    <tr>\n",
       "      <th>34507</th>\n",
       "      <td>91faeefabf9866bf3bf6db88c5851a462d19eb28c61490...</td>\n",
       "      <td>14.0</td>\n",
       "      <td>0.0000</td>\n",
       "      <td>0.0000</td>\n",
       "      <td>0.0000</td>\n",
       "      <td>8.0</td>\n",
       "      <td>16.0</td>\n",
       "      <td>4.0</td>\n",
       "      <td>0.338931</td>\n",
       "      <td>5.407331</td>\n",
       "      <td>16.687089</td>\n",
       "      <td>0</td>\n",
       "    </tr>\n",
       "    <tr>\n",
       "      <th>35326</th>\n",
       "      <td>984a3d9ca43a27379041948b9a8d3bc69cf3f4f303d8ab...</td>\n",
       "      <td>30.0</td>\n",
       "      <td>270.0000</td>\n",
       "      <td>265.0000</td>\n",
       "      <td>75.0000</td>\n",
       "      <td>20.0</td>\n",
       "      <td>26.0</td>\n",
       "      <td>21.0</td>\n",
       "      <td>452.980880</td>\n",
       "      <td>291.290459</td>\n",
       "      <td>262.549552</td>\n",
       "      <td>0</td>\n",
       "    </tr>\n",
       "    <tr>\n",
       "      <th>43951</th>\n",
       "      <td>2fb230db668718006ce17656ada0cedcc13d29880db62b...</td>\n",
       "      <td>28.0</td>\n",
       "      <td>20.0000</td>\n",
       "      <td>40.0000</td>\n",
       "      <td>20.0000</td>\n",
       "      <td>3.0</td>\n",
       "      <td>4.0</td>\n",
       "      <td>5.0</td>\n",
       "      <td>12.175537</td>\n",
       "      <td>63.071409</td>\n",
       "      <td>93.775543</td>\n",
       "      <td>0</td>\n",
       "    </tr>\n",
       "    <tr>\n",
       "      <th>51700</th>\n",
       "      <td>a4dd50dc492b02826ec5338de6b1029bd23fb96f7dcf49...</td>\n",
       "      <td>30.0</td>\n",
       "      <td>0.0000</td>\n",
       "      <td>0.0000</td>\n",
       "      <td>0.0000</td>\n",
       "      <td>28.0</td>\n",
       "      <td>30.0</td>\n",
       "      <td>30.0</td>\n",
       "      <td>15134.059540</td>\n",
       "      <td>19215.454200</td>\n",
       "      <td>5412.586144</td>\n",
       "      <td>0</td>\n",
       "    </tr>\n",
       "    <tr>\n",
       "      <th>60401</th>\n",
       "      <td>6409d3472a647f3b586162e69c6ad2e76902b0cd0e12b8...</td>\n",
       "      <td>26.0</td>\n",
       "      <td>0.0000</td>\n",
       "      <td>70.0000</td>\n",
       "      <td>60.0000</td>\n",
       "      <td>8.0</td>\n",
       "      <td>17.0</td>\n",
       "      <td>19.0</td>\n",
       "      <td>40.938031</td>\n",
       "      <td>1696.644624</td>\n",
       "      <td>467.987168</td>\n",
       "      <td>0</td>\n",
       "    </tr>\n",
       "    <tr>\n",
       "      <th>61556</th>\n",
       "      <td>181e51a3666a02b970f2d40bd6ce8f029439f573ad1cba...</td>\n",
       "      <td>16.0</td>\n",
       "      <td>2.5956</td>\n",
       "      <td>1.5246</td>\n",
       "      <td>73.1042</td>\n",
       "      <td>4.0</td>\n",
       "      <td>18.0</td>\n",
       "      <td>18.0</td>\n",
       "      <td>7.505265</td>\n",
       "      <td>48.034159</td>\n",
       "      <td>126.466852</td>\n",
       "      <td>0</td>\n",
       "    </tr>\n",
       "    <tr>\n",
       "      <th>66275</th>\n",
       "      <td>a3588f0fc7e34d6928c2f920f5416c4d0397c6bc8bc343...</td>\n",
       "      <td>30.0</td>\n",
       "      <td>104.9310</td>\n",
       "      <td>672.9862</td>\n",
       "      <td>511.1100</td>\n",
       "      <td>17.0</td>\n",
       "      <td>22.0</td>\n",
       "      <td>19.0</td>\n",
       "      <td>424.453071</td>\n",
       "      <td>2878.929971</td>\n",
       "      <td>2102.458263</td>\n",
       "      <td>0</td>\n",
       "    </tr>\n",
       "    <tr>\n",
       "      <th>78462</th>\n",
       "      <td>29ced8b456ccf82e61133e2b28962871f426ea34c15d5d...</td>\n",
       "      <td>30.0</td>\n",
       "      <td>95.0000</td>\n",
       "      <td>210.0000</td>\n",
       "      <td>50.0000</td>\n",
       "      <td>28.0</td>\n",
       "      <td>30.0</td>\n",
       "      <td>24.0</td>\n",
       "      <td>4528.838505</td>\n",
       "      <td>3964.603844</td>\n",
       "      <td>4464.848509</td>\n",
       "      <td>0</td>\n",
       "    </tr>\n",
       "    <tr>\n",
       "      <th>84412</th>\n",
       "      <td>36bf42ebf52c68b26ed038c0a6d7d3c6d88ee3387f2a4b...</td>\n",
       "      <td>30.0</td>\n",
       "      <td>380.0000</td>\n",
       "      <td>540.0000</td>\n",
       "      <td>540.0000</td>\n",
       "      <td>29.0</td>\n",
       "      <td>30.0</td>\n",
       "      <td>30.0</td>\n",
       "      <td>14552.287860</td>\n",
       "      <td>9525.200893</td>\n",
       "      <td>9829.093578</td>\n",
       "      <td>0</td>\n",
       "    </tr>\n",
       "    <tr>\n",
       "      <th>84840</th>\n",
       "      <td>80d85fad71c53ac893dd376fd2a80784692bc375536bb1...</td>\n",
       "      <td>30.0</td>\n",
       "      <td>76.5000</td>\n",
       "      <td>18.0000</td>\n",
       "      <td>126.0000</td>\n",
       "      <td>29.0</td>\n",
       "      <td>27.0</td>\n",
       "      <td>29.0</td>\n",
       "      <td>568.091351</td>\n",
       "      <td>433.594861</td>\n",
       "      <td>1498.859579</td>\n",
       "      <td>0</td>\n",
       "    </tr>\n",
       "    <tr>\n",
       "      <th>90249</th>\n",
       "      <td>715a384f9e53063e74c49868670d9e88992a751fc579da...</td>\n",
       "      <td>30.0</td>\n",
       "      <td>39.9798</td>\n",
       "      <td>81.0608</td>\n",
       "      <td>0.0000</td>\n",
       "      <td>9.0</td>\n",
       "      <td>19.0</td>\n",
       "      <td>4.0</td>\n",
       "      <td>3.226288</td>\n",
       "      <td>96.515787</td>\n",
       "      <td>5.697976</td>\n",
       "      <td>0</td>\n",
       "    </tr>\n",
       "  </tbody>\n",
       "</table>\n",
       "</div>"
      ],
      "text/plain": [
       "                                                  MSISDN  var1m0    var2m0  \\\n",
       "704    eb79afb22127060175769a73041de6f88f3b5d4fb55950...    30.0    0.0000   \n",
       "1792   0fdc74632c28c6cc869066c4671a84b0c11013d22d2973...    25.0    0.0000   \n",
       "4217   58be29ee2d9a598482c0ca1555a68697d5788495ac31b6...    30.0    0.0000   \n",
       "4295   d9658b8da1924044c68141c48be70b5f5d8143b0720172...    30.0    0.0000   \n",
       "14059  72373e85604f6fce9ba10cf7ade98fc570bf2951c1c045...    30.0    0.0000   \n",
       "17162  7aa44a513037d617452d053e0f8f00a9ad1016fe0c7acf...    25.0   36.0000   \n",
       "32853  9088218725a91e2d5582470581d77b6e7843cbccbb4f84...    24.0    0.0000   \n",
       "33112  274fb720b62722179e7ea70b78c1628cd5767564676ddd...    30.0    0.0000   \n",
       "34507  91faeefabf9866bf3bf6db88c5851a462d19eb28c61490...    14.0    0.0000   \n",
       "35326  984a3d9ca43a27379041948b9a8d3bc69cf3f4f303d8ab...    30.0  270.0000   \n",
       "43951  2fb230db668718006ce17656ada0cedcc13d29880db62b...    28.0   20.0000   \n",
       "51700  a4dd50dc492b02826ec5338de6b1029bd23fb96f7dcf49...    30.0    0.0000   \n",
       "60401  6409d3472a647f3b586162e69c6ad2e76902b0cd0e12b8...    26.0    0.0000   \n",
       "61556  181e51a3666a02b970f2d40bd6ce8f029439f573ad1cba...    16.0    2.5956   \n",
       "66275  a3588f0fc7e34d6928c2f920f5416c4d0397c6bc8bc343...    30.0  104.9310   \n",
       "78462  29ced8b456ccf82e61133e2b28962871f426ea34c15d5d...    30.0   95.0000   \n",
       "84412  36bf42ebf52c68b26ed038c0a6d7d3c6d88ee3387f2a4b...    30.0  380.0000   \n",
       "84840  80d85fad71c53ac893dd376fd2a80784692bc375536bb1...    30.0   76.5000   \n",
       "90249  715a384f9e53063e74c49868670d9e88992a751fc579da...    30.0   39.9798   \n",
       "\n",
       "         var2m1    var2m2  var3m0  var3m1  var3m2        var4m0        var4m1  \\\n",
       "704      0.0000    0.0000    26.0    29.0    29.0    704.007869    145.147002   \n",
       "1792     0.0000    0.0000     9.0     7.0     7.0      1.891281      0.211710   \n",
       "4217     0.0000    0.0000    30.0    30.0    29.0  18920.904810  19048.590060   \n",
       "4295     0.0000    0.0000    19.0    18.0    24.0    246.691515    725.460001   \n",
       "14059   60.0000    0.0000     4.0     8.0    21.0    425.642860   1090.128726   \n",
       "17162    0.0000   20.0000    14.0     6.0    11.0    712.613996     60.761329   \n",
       "32853    0.0000   60.0000    14.0    30.0    23.0    110.729266    250.515447   \n",
       "33112    0.0000    0.0000    30.0    27.0    29.0   1839.283643    858.116180   \n",
       "34507    0.0000    0.0000     8.0    16.0     4.0      0.338931      5.407331   \n",
       "35326  265.0000   75.0000    20.0    26.0    21.0    452.980880    291.290459   \n",
       "43951   40.0000   20.0000     3.0     4.0     5.0     12.175537     63.071409   \n",
       "51700    0.0000    0.0000    28.0    30.0    30.0  15134.059540  19215.454200   \n",
       "60401   70.0000   60.0000     8.0    17.0    19.0     40.938031   1696.644624   \n",
       "61556    1.5246   73.1042     4.0    18.0    18.0      7.505265     48.034159   \n",
       "66275  672.9862  511.1100    17.0    22.0    19.0    424.453071   2878.929971   \n",
       "78462  210.0000   50.0000    28.0    30.0    24.0   4528.838505   3964.603844   \n",
       "84412  540.0000  540.0000    29.0    30.0    30.0  14552.287860   9525.200893   \n",
       "84840   18.0000  126.0000    29.0    27.0    29.0    568.091351    433.594861   \n",
       "90249   81.0608    0.0000     9.0    19.0     4.0      3.226288     96.515787   \n",
       "\n",
       "             var4m2  churn  \n",
       "704     1466.098048      0  \n",
       "1792       0.114825      0  \n",
       "4217   17080.199560      0  \n",
       "4295    1051.890407      0  \n",
       "14059   3151.398569      0  \n",
       "17162    161.026414      0  \n",
       "32853    151.326050      0  \n",
       "33112   1035.054111      0  \n",
       "34507     16.687089      0  \n",
       "35326    262.549552      0  \n",
       "43951     93.775543      0  \n",
       "51700   5412.586144      0  \n",
       "60401    467.987168      0  \n",
       "61556    126.466852      0  \n",
       "66275   2102.458263      0  \n",
       "78462   4464.848509      0  \n",
       "84412   9829.093578      0  \n",
       "84840   1498.859579      0  \n",
       "90249      5.697976      0  "
      ]
     },
     "execution_count": 12,
     "metadata": {},
     "output_type": "execute_result"
    }
   ],
   "source": [
    "#checking for duplicates \n",
    "train_clean[train_clean.duplicated(['var1m0', 'var2m0', 'var2m1', 'var2m2', 'var3m0', 'var3m1', 'var4m0', 'var4m1', 'var4m2'])]"
   ]
  },
  {
   "cell_type": "code",
   "execution_count": 13,
   "metadata": {},
   "outputs": [],
   "source": [
    "#removing the duplicates\n",
    "train_clean = train_clean.drop_duplicates()"
   ]
  },
  {
   "cell_type": "code",
   "execution_count": 14,
   "metadata": {},
   "outputs": [
    {
     "data": {
      "text/html": [
       "<div>\n",
       "<style scoped>\n",
       "    .dataframe tbody tr th:only-of-type {\n",
       "        vertical-align: middle;\n",
       "    }\n",
       "\n",
       "    .dataframe tbody tr th {\n",
       "        vertical-align: top;\n",
       "    }\n",
       "\n",
       "    .dataframe thead th {\n",
       "        text-align: right;\n",
       "    }\n",
       "</style>\n",
       "<table border=\"1\" class=\"dataframe\">\n",
       "  <thead>\n",
       "    <tr style=\"text-align: right;\">\n",
       "      <th></th>\n",
       "      <th>MSISDN</th>\n",
       "      <th>var1m0</th>\n",
       "      <th>var2m0</th>\n",
       "      <th>var2m1</th>\n",
       "      <th>var2m2</th>\n",
       "      <th>var3m0</th>\n",
       "      <th>var3m1</th>\n",
       "      <th>var3m2</th>\n",
       "      <th>var4m0</th>\n",
       "      <th>var4m1</th>\n",
       "      <th>var4m2</th>\n",
       "      <th>churn</th>\n",
       "    </tr>\n",
       "  </thead>\n",
       "  <tbody>\n",
       "  </tbody>\n",
       "</table>\n",
       "</div>"
      ],
      "text/plain": [
       "Empty DataFrame\n",
       "Columns: [MSISDN, var1m0, var2m0, var2m1, var2m2, var3m0, var3m1, var3m2, var4m0, var4m1, var4m2, churn]\n",
       "Index: []"
      ]
     },
     "execution_count": 14,
     "metadata": {},
     "output_type": "execute_result"
    }
   ],
   "source": [
    "#checking whether drop duplicates command has effected\n",
    "train_clean[train_clean.duplicated(['var1m0', 'var2m0', 'var2m1', 'var2m2', 'var3m0', 'var3m1', 'var4m0', 'var4m1', 'var4m2'])]"
   ]
  },
  {
   "cell_type": "markdown",
   "metadata": {},
   "source": [
    "# Outliers"
   ]
  },
  {
   "cell_type": "markdown",
   "metadata": {},
   "source": [
    "checking for outliers in all columns "
   ]
  },
  {
   "cell_type": "code",
   "execution_count": 15,
   "metadata": {},
   "outputs": [
    {
     "ename": "AttributeError",
     "evalue": "'Series' object has no attribute 'describeibe'",
     "output_type": "error",
     "traceback": [
      "\u001b[1;31m---------------------------------------------------------------------------\u001b[0m",
      "\u001b[1;31mAttributeError\u001b[0m                            Traceback (most recent call last)",
      "\u001b[1;32m<ipython-input-15-638eb72a8311>\u001b[0m in \u001b[0;36m<module>\u001b[1;34m\u001b[0m\n\u001b[1;32m----> 1\u001b[1;33m \u001b[0mtrain_clean\u001b[0m\u001b[1;33m[\u001b[0m\u001b[1;34m'var1m0'\u001b[0m\u001b[1;33m]\u001b[0m\u001b[1;33m.\u001b[0m\u001b[0mdescribeibe\u001b[0m\u001b[1;33m(\u001b[0m\u001b[1;33m)\u001b[0m\u001b[1;33m\u001b[0m\u001b[1;33m\u001b[0m\u001b[0m\n\u001b[0m",
      "\u001b[1;32m~\\Anaconda3\\lib\\site-packages\\pandas\\core\\generic.py\u001b[0m in \u001b[0;36m__getattr__\u001b[1;34m(self, name)\u001b[0m\n\u001b[0;32m   5137\u001b[0m             \u001b[1;32mif\u001b[0m \u001b[0mself\u001b[0m\u001b[1;33m.\u001b[0m\u001b[0m_info_axis\u001b[0m\u001b[1;33m.\u001b[0m\u001b[0m_can_hold_identifiers_and_holds_name\u001b[0m\u001b[1;33m(\u001b[0m\u001b[0mname\u001b[0m\u001b[1;33m)\u001b[0m\u001b[1;33m:\u001b[0m\u001b[1;33m\u001b[0m\u001b[1;33m\u001b[0m\u001b[0m\n\u001b[0;32m   5138\u001b[0m                 \u001b[1;32mreturn\u001b[0m \u001b[0mself\u001b[0m\u001b[1;33m[\u001b[0m\u001b[0mname\u001b[0m\u001b[1;33m]\u001b[0m\u001b[1;33m\u001b[0m\u001b[1;33m\u001b[0m\u001b[0m\n\u001b[1;32m-> 5139\u001b[1;33m             \u001b[1;32mreturn\u001b[0m \u001b[0mobject\u001b[0m\u001b[1;33m.\u001b[0m\u001b[0m__getattribute__\u001b[0m\u001b[1;33m(\u001b[0m\u001b[0mself\u001b[0m\u001b[1;33m,\u001b[0m \u001b[0mname\u001b[0m\u001b[1;33m)\u001b[0m\u001b[1;33m\u001b[0m\u001b[1;33m\u001b[0m\u001b[0m\n\u001b[0m\u001b[0;32m   5140\u001b[0m \u001b[1;33m\u001b[0m\u001b[0m\n\u001b[0;32m   5141\u001b[0m     \u001b[1;32mdef\u001b[0m \u001b[0m__setattr__\u001b[0m\u001b[1;33m(\u001b[0m\u001b[0mself\u001b[0m\u001b[1;33m,\u001b[0m \u001b[0mname\u001b[0m\u001b[1;33m:\u001b[0m \u001b[0mstr\u001b[0m\u001b[1;33m,\u001b[0m \u001b[0mvalue\u001b[0m\u001b[1;33m)\u001b[0m \u001b[1;33m->\u001b[0m \u001b[1;32mNone\u001b[0m\u001b[1;33m:\u001b[0m\u001b[1;33m\u001b[0m\u001b[1;33m\u001b[0m\u001b[0m\n",
      "\u001b[1;31mAttributeError\u001b[0m: 'Series' object has no attribute 'describeibe'"
     ]
    }
   ],
   "source": [
    "train_clean['var1m0'].describeibe()"
   ]
  },
  {
   "cell_type": "code",
   "execution_count": null,
   "metadata": {},
   "outputs": [],
   "source": [
    "sns.boxplot(train_clean['var1m0'])"
   ]
  },
  {
   "cell_type": "code",
   "execution_count": null,
   "metadata": {},
   "outputs": [],
   "source": [
    "sns.boxplot(train_clean['var2m0'])"
   ]
  },
  {
   "cell_type": "code",
   "execution_count": null,
   "metadata": {},
   "outputs": [],
   "source": [
    "train_clean['var2m0'].describe()"
   ]
  },
  {
   "cell_type": "code",
   "execution_count": null,
   "metadata": {},
   "outputs": [],
   "source": [
    "train_clean['var2m1'].describe()"
   ]
  },
  {
   "cell_type": "code",
   "execution_count": null,
   "metadata": {},
   "outputs": [],
   "source": [
    "sns.boxplot(train_clean['var2m1'])"
   ]
  },
  {
   "cell_type": "code",
   "execution_count": null,
   "metadata": {},
   "outputs": [],
   "source": [
    "train_clean['var2m2'].describe()"
   ]
  },
  {
   "cell_type": "code",
   "execution_count": null,
   "metadata": {},
   "outputs": [],
   "source": [
    "sns.boxplot(train_clean['var2m2'])"
   ]
  },
  {
   "cell_type": "code",
   "execution_count": null,
   "metadata": {},
   "outputs": [],
   "source": [
    "train_clean['var3m0'].describe()"
   ]
  },
  {
   "cell_type": "code",
   "execution_count": null,
   "metadata": {},
   "outputs": [],
   "source": [
    "sns.boxplot(train_clean['var3m0'])"
   ]
  },
  {
   "cell_type": "code",
   "execution_count": null,
   "metadata": {},
   "outputs": [],
   "source": [
    "train_clean['var3m1'].describe()"
   ]
  },
  {
   "cell_type": "code",
   "execution_count": null,
   "metadata": {},
   "outputs": [],
   "source": [
    "sns.boxplot(train_clean['var3m1'])"
   ]
  },
  {
   "cell_type": "code",
   "execution_count": null,
   "metadata": {},
   "outputs": [],
   "source": [
    "train_clean['var3m2'].describe()"
   ]
  },
  {
   "cell_type": "code",
   "execution_count": null,
   "metadata": {},
   "outputs": [],
   "source": [
    "sns.boxplot(train_clean['var3m2'])"
   ]
  },
  {
   "cell_type": "code",
   "execution_count": null,
   "metadata": {},
   "outputs": [],
   "source": [
    "train_clean['var4m2'].describe()"
   ]
  },
  {
   "cell_type": "code",
   "execution_count": null,
   "metadata": {},
   "outputs": [],
   "source": [
    "sns.boxplot(train_clean['var4m2'])"
   ]
  },
  {
   "cell_type": "code",
   "execution_count": null,
   "metadata": {},
   "outputs": [],
   "source": [
    "#replacing the outliers \n",
    "train_clean['var1m0'] = np.where(train_clean['var1m0']<=25, 25, train_clean['var1m0'])"
   ]
  },
  {
   "cell_type": "code",
   "execution_count": null,
   "metadata": {},
   "outputs": [],
   "source": [
    "sns.boxplot(train_clean['var1m0'])"
   ]
  },
  {
   "cell_type": "code",
   "execution_count": null,
   "metadata": {},
   "outputs": [],
   "source": [
    "train_clean['var3m0'] = np.where(train_clean['var3m0']>=28, 28, train_clean['var3m0'])"
   ]
  },
  {
   "cell_type": "code",
   "execution_count": null,
   "metadata": {},
   "outputs": [],
   "source": [
    "sns.boxplot(train_clean['var3m0'])"
   ]
  },
  {
   "cell_type": "code",
   "execution_count": null,
   "metadata": {},
   "outputs": [],
   "source": [
    "train_clean['var4m2'].describe()"
   ]
  },
  {
   "cell_type": "code",
   "execution_count": null,
   "metadata": {},
   "outputs": [],
   "source": [
    "sns.boxplot(train_clean['var4m2'])"
   ]
  },
  {
   "cell_type": "code",
   "execution_count": null,
   "metadata": {},
   "outputs": [],
   "source": [
    "train_clean['var4m2'] = np.where(train_clean['var4m2']>=1590.058204, 1590.058204, train_clean['var4m2'])"
   ]
  },
  {
   "cell_type": "code",
   "execution_count": null,
   "metadata": {},
   "outputs": [],
   "source": [
    "sns.boxplot(train_clean['var4m2'])"
   ]
  },
  {
   "cell_type": "code",
   "execution_count": null,
   "metadata": {},
   "outputs": [],
   "source": [
    "train_clean['var2m0'].describe()"
   ]
  },
  {
   "cell_type": "code",
   "execution_count": null,
   "metadata": {},
   "outputs": [],
   "source": [
    "sns.boxplot(train_clean['var2m0'])"
   ]
  },
  {
   "cell_type": "code",
   "execution_count": null,
   "metadata": {},
   "outputs": [],
   "source": [
    "train_clean['var2m0'] = np.where(train_clean['var2m0']>=58, 58, train_clean['var2m0'])"
   ]
  },
  {
   "cell_type": "code",
   "execution_count": null,
   "metadata": {},
   "outputs": [],
   "source": [
    "sns.boxplot(train_clean['var2m0'])"
   ]
  },
  {
   "cell_type": "code",
   "execution_count": null,
   "metadata": {},
   "outputs": [],
   "source": [
    "train_clean['var2m1'].describe()"
   ]
  },
  {
   "cell_type": "code",
   "execution_count": null,
   "metadata": {},
   "outputs": [],
   "source": [
    "sns.boxplot(train_clean['var2m1'])"
   ]
  },
  {
   "cell_type": "code",
   "execution_count": null,
   "metadata": {},
   "outputs": [],
   "source": [
    "train_clean['var2m1'] = np.where(train_clean['var2m1']>=65, 65, train_clean['var2m1'])"
   ]
  },
  {
   "cell_type": "code",
   "execution_count": null,
   "metadata": {},
   "outputs": [],
   "source": [
    "sns.boxplot(train_clean['var2m1'])"
   ]
  },
  {
   "cell_type": "code",
   "execution_count": null,
   "metadata": {},
   "outputs": [],
   "source": [
    "train_clean['var4m0'].describe()"
   ]
  },
  {
   "cell_type": "code",
   "execution_count": null,
   "metadata": {},
   "outputs": [],
   "source": [
    "sns.boxplot(train_clean['var4m0'])"
   ]
  },
  {
   "cell_type": "code",
   "execution_count": null,
   "metadata": {},
   "outputs": [],
   "source": [
    "train_clean['var4m0'] = np.where(train_clean['var4m0']>=1485.000571, 1485.000571, train_clean['var4m0'])"
   ]
  },
  {
   "cell_type": "code",
   "execution_count": null,
   "metadata": {},
   "outputs": [],
   "source": [
    "sns.boxplot(train_clean['var4m0'])"
   ]
  },
  {
   "cell_type": "code",
   "execution_count": null,
   "metadata": {},
   "outputs": [],
   "source": [
    "train_clean['var4m1'].describe()"
   ]
  },
  {
   "cell_type": "code",
   "execution_count": null,
   "metadata": {},
   "outputs": [],
   "source": [
    "sns.boxplot(train_clean['var4m1'])"
   ]
  },
  {
   "cell_type": "code",
   "execution_count": null,
   "metadata": {},
   "outputs": [],
   "source": [
    "train_clean['var4m1'] = np.where(train_clean['var4m1']>=1476.358762, 1476.358762, train_clean['var4m1'])"
   ]
  },
  {
   "cell_type": "code",
   "execution_count": null,
   "metadata": {},
   "outputs": [],
   "source": [
    "sns.boxplot(train_clean['var4m1'])"
   ]
  },
  {
   "cell_type": "markdown",
   "metadata": {},
   "source": [
    "**Heatmap to demostrate the correlation between the independent variables.**"
   ]
  },
  {
   "cell_type": "code",
   "execution_count": null,
   "metadata": {},
   "outputs": [],
   "source": [
    "train_clean.corr()"
   ]
  },
  {
   "cell_type": "code",
   "execution_count": null,
   "metadata": {},
   "outputs": [],
   "source": [
    "list(train_clean.columns)"
   ]
  },
  {
   "cell_type": "code",
   "execution_count": null,
   "metadata": {},
   "outputs": [],
   "source": [
    "train_clean.drop(['var1m0_no_outliers'], axis = 1)"
   ]
  },
  {
   "cell_type": "code",
   "execution_count": null,
   "metadata": {},
   "outputs": [],
   "source": [
    "train_clean = train_clean.drop(['var3m0_no_outliers', 'var4m2_no_outliers', 'var2m0_no_outliers', 'var1m0_no_outliers'], axis = 1)"
   ]
  },
  {
   "cell_type": "code",
   "execution_count": null,
   "metadata": {},
   "outputs": [],
   "source": [
    "train_clean.columns"
   ]
  },
  {
   "cell_type": "code",
   "execution_count": null,
   "metadata": {},
   "outputs": [],
   "source": [
    "train_clean.corr()"
   ]
  },
  {
   "cell_type": "code",
   "execution_count": null,
   "metadata": {},
   "outputs": [],
   "source": [
    "sns.heatmap(train_clean.corr())"
   ]
  },
  {
   "cell_type": "markdown",
   "metadata": {},
   "source": [
    "# Hypothese Testing "
   ]
  },
  {
   "cell_type": "markdown",
   "metadata": {},
   "source": [
    "Formulaion of a hypothesis and testing the hypothesis Using the variable var2m0 and the dependant variable churn. \n",
    "This will involve creation of a null Hypothesis and an alternative hypothesis.\n",
    "The two groups being compared is the churn and not-churn"
   ]
  },
  {
   "cell_type": "code",
   "execution_count": null,
   "metadata": {},
   "outputs": [],
   "source": [
    "import math\n",
    "import scipy.stats as stats"
   ]
  },
  {
   "cell_type": "code",
   "execution_count": null,
   "metadata": {},
   "outputs": [],
   "source": [
    "train_clean.head()"
   ]
  },
  {
   "cell_type": "code",
   "execution_count": null,
   "metadata": {},
   "outputs": [],
   "source": [
    "churned = train_clean.loc[train_clean['churn'] == True]\n",
    "not_churned = train_clean.loc[train_clean['churn'] == False]"
   ]
  },
  {
   "cell_type": "code",
   "execution_count": null,
   "metadata": {},
   "outputs": [],
   "source": [
    "churned.head()"
   ]
  },
  {
   "cell_type": "code",
   "execution_count": null,
   "metadata": {},
   "outputs": [],
   "source": [
    "not_churned.head()"
   ]
  },
  {
   "cell_type": "code",
   "execution_count": null,
   "metadata": {},
   "outputs": [],
   "source": [
    "sns.distplot(churned['var2m0'], label = \"Churned Customers under var2m0\")\n",
    "sns.displot(not_churned['var2m0'])\n",
    "plt.legend()\n",
    "plt.show()"
   ]
  },
  {
   "cell_type": "code",
   "execution_count": null,
   "metadata": {},
   "outputs": [],
   "source": [
    "sns.kdeplot(churned['var2m0'], shade=True, hue=churned['churn'], multiple='stack')\n",
    "sns.kdeplot(not_churned['var2m0'], shade=False, hue=not_churned['churn'], multiple='stack')\n",
    "plt"
   ]
  },
  {
   "cell_type": "markdown",
   "metadata": {},
   "source": [
    "# Data Descriptives"
   ]
  },
  {
   "cell_type": "markdown",
   "metadata": {},
   "source": [
    "Grouping the customers by churn. How many customers churned/Not churned and count how many customers are in each of the group"
   ]
  },
  {
   "cell_type": "code",
   "execution_count": null,
   "metadata": {},
   "outputs": [],
   "source": [
    "#grouping the customers by churn \n",
    "train_clean.groupby('churn')['churn'].count()"
   ]
  },
  {
   "cell_type": "code",
   "execution_count": null,
   "metadata": {},
   "outputs": [],
   "source": [
    "list(train_clean.columns)"
   ]
  },
  {
   "cell_type": "markdown",
   "metadata": {},
   "source": [
    "**Grouping the customers who churned and not churned in different groups**"
   ]
  },
  {
   "cell_type": "code",
   "execution_count": null,
   "metadata": {},
   "outputs": [],
   "source": [
    "var1m0_churned = train_clean.loc[train_clean['churn'] == True]\n",
    "var1m0_churned.head()"
   ]
  },
  {
   "cell_type": "code",
   "execution_count": null,
   "metadata": {},
   "outputs": [],
   "source": [
    "var1m0_churned.drop(columns=['var2m0', 'var2m1', 'var2m2', 'var3m0', 'var3m1', 'var3m2', 'var4m0', 'var4m1', 'var4m2'])"
   ]
  },
  {
   "cell_type": "code",
   "execution_count": null,
   "metadata": {},
   "outputs": [],
   "source": [
    "var1m0_not_churned = train_clean.loc[train_clean['churn'] == False].drop(columns=['var2m0', 'var2m1', 'var2m2', 'var3m0', 'var3m1', 'var3m2', 'var4m0', 'var4m1', 'var4m2'])\n",
    "var1m0_not_churned"
   ]
  },
  {
   "cell_type": "code",
   "execution_count": null,
   "metadata": {},
   "outputs": [],
   "source": [
    "list(churned.columns)"
   ]
  },
  {
   "cell_type": "markdown",
   "metadata": {},
   "source": [
    "var2m0 churned and not churned subsets"
   ]
  },
  {
   "cell_type": "code",
   "execution_count": null,
   "metadata": {},
   "outputs": [],
   "source": [
    "var2m0_churned = train_clean.loc[train_clean['churn'] == True].drop(columns=['var1m0', 'var2m1', 'var2m2', 'var3m0', 'var3m1', 'var3m2', 'var4m0', 'var4m1', 'var4m2'])\n",
    "var2m0_churned.head()"
   ]
  },
  {
   "cell_type": "code",
   "execution_count": null,
   "metadata": {},
   "outputs": [],
   "source": [
    "var2m0_not_churned = train_clean.loc[train_clean['churn'] == False].drop(columns=['var1m0', 'var2m1', 'var2m2', 'var3m0', 'var3m1', 'var3m2', 'var4m0', 'var4m1', 'var4m2'])\n",
    "var2m0_not_churned.head()"
   ]
  },
  {
   "cell_type": "markdown",
   "metadata": {},
   "source": [
    "var2m1 churned and not churned subsets "
   ]
  },
  {
   "cell_type": "code",
   "execution_count": null,
   "metadata": {},
   "outputs": [],
   "source": [
    "var2m1_churned = train_clean.loc[train_clean['churn'] == True].drop(columns=['var1m0', 'var2m0', 'var2m2', 'var3m0', 'var3m1', 'var3m2', 'var4m0', 'var4m1', 'var4m2'])\n",
    "var2m1_churned.head()"
   ]
  },
  {
   "cell_type": "code",
   "execution_count": null,
   "metadata": {},
   "outputs": [],
   "source": [
    "var2m1_not_churned = train_clean.loc[train_clean['churn'] == False].drop(columns=['var1m0', 'var2m0', 'var2m2', 'var3m0', 'var3m1', 'var3m2', 'var4m0', 'var4m1', 'var4m2'])\n",
    "var2m1_not_churned.head()"
   ]
  },
  {
   "cell_type": "markdown",
   "metadata": {},
   "source": [
    "var2m2 churned and not churned subsets "
   ]
  },
  {
   "cell_type": "code",
   "execution_count": null,
   "metadata": {},
   "outputs": [],
   "source": [
    "var2m2_churned = train_clean.loc[train_clean['churn'] == True].drop(columns=['var1m0', 'var2m0', 'var2m1', 'var3m0', 'var3m1', 'var3m2', 'var4m0', 'var4m1', 'var4m2'])\n",
    "var2m2_churned.head()"
   ]
  },
  {
   "cell_type": "code",
   "execution_count": null,
   "metadata": {},
   "outputs": [],
   "source": [
    "var2m2_not_churned = train_clean.loc[train_clean['churn'] == False].drop(columns=['var1m0', 'var2m0', 'var2m1', 'var3m0', 'var3m1', 'var3m2', 'var4m0', 'var4m1', 'var4m2'])\n",
    "var2m2_not_churned.head()"
   ]
  },
  {
   "cell_type": "markdown",
   "metadata": {},
   "source": [
    "var3m0 churned and not churned subsets "
   ]
  },
  {
   "cell_type": "code",
   "execution_count": null,
   "metadata": {},
   "outputs": [],
   "source": [
    "var3m0_churned = train_clean.loc[train_clean['churn'] == True].drop(columns=['var1m0', 'var2m0', 'var2m1', 'var2m2', 'var3m1', 'var3m2', 'var4m0', 'var4m1', 'var4m2'])\n",
    "var3m0_churned.head()                                                                             "
   ]
  },
  {
   "cell_type": "code",
   "execution_count": null,
   "metadata": {},
   "outputs": [],
   "source": [
    "var3m0_not_churned = train_clean.loc[train_clean['churn'] == False].drop(columns=['var1m0', 'var2m0', 'var2m1', 'var2m2', 'var3m1', 'var3m2', 'var4m0', 'var4m1', 'var4m2'])\n",
    "var3m0_not_churned.head()                                                                             "
   ]
  },
  {
   "cell_type": "markdown",
   "metadata": {},
   "source": [
    "var3m1 churned and not churned datasets "
   ]
  },
  {
   "cell_type": "code",
   "execution_count": null,
   "metadata": {},
   "outputs": [],
   "source": [
    "var3m1_churned = train_clean.loc[train_clean['churn'] == True].drop(columns=['var1m0', 'var2m0', 'var2m1', 'var2m2', 'var3m0', 'var3m2', 'var4m0', 'var4m1', 'var4m2'])\n",
    "var3m1_churned.head()"
   ]
  },
  {
   "cell_type": "code",
   "execution_count": null,
   "metadata": {},
   "outputs": [],
   "source": [
    "var3m1_not_churned = train_clean.loc[train_clean['churn'] == False].drop(columns=['var1m0', 'var2m0', 'var2m1', 'var2m2', 'var3m0', 'var3m2', 'var4m0', 'var4m1', 'var4m2'])\n",
    "var3m1_not_churned.head()"
   ]
  },
  {
   "cell_type": "markdown",
   "metadata": {},
   "source": [
    "var3m2 churned and not churned subsets "
   ]
  },
  {
   "cell_type": "code",
   "execution_count": null,
   "metadata": {},
   "outputs": [],
   "source": [
    "var3m2_churned = train_clean.loc[train_clean['churn'] == True].drop(columns=['var1m0', 'var2m0', 'var2m1', 'var2m2', 'var3m0', 'var3m1', 'var4m0', 'var4m1', 'var4m2'])\n",
    "var3m2_churned.head()"
   ]
  },
  {
   "cell_type": "code",
   "execution_count": null,
   "metadata": {},
   "outputs": [],
   "source": [
    "var3m2_not_churned = train_clean.loc[train_clean['churn'] == False].drop(columns=['var1m0', 'var2m0', 'var2m1', 'var2m2', 'var3m0', 'var3m1', 'var4m0', 'var4m1', 'var4m2'])\n",
    "var3m2_not_churned.head()"
   ]
  },
  {
   "cell_type": "markdown",
   "metadata": {},
   "source": [
    "var4m0 churned and not churned datasets "
   ]
  },
  {
   "cell_type": "code",
   "execution_count": null,
   "metadata": {},
   "outputs": [],
   "source": [
    "var4m0_churned = train_clean.loc[train_clean['churn'] == True].drop(columns=['var1m0', 'var2m0', 'var2m1', 'var2m2', 'var3m0', 'var3m1', 'var3m2', 'var4m1', 'var4m2'])\n",
    "var4m0_churned.head()"
   ]
  },
  {
   "cell_type": "code",
   "execution_count": null,
   "metadata": {},
   "outputs": [],
   "source": [
    "var4m0_not_churned = train_clean.loc[train_clean['churn'] == False].drop(columns=['var1m0', 'var2m0', 'var2m1', 'var2m2', 'var3m0', 'var3m1', 'var3m2', 'var4m1', 'var4m2'])\n",
    "var4m0_not_churned.head()"
   ]
  },
  {
   "cell_type": "markdown",
   "metadata": {},
   "source": [
    "var4m1 churned and not churned subsets "
   ]
  },
  {
   "cell_type": "code",
   "execution_count": null,
   "metadata": {},
   "outputs": [],
   "source": [
    "var4m1_churned = train_clean.loc[train_clean['churn'] == True].drop(columns=['var1m0', 'var2m0', 'var2m1', 'var2m2', 'var3m0', 'var3m1', 'var3m2', 'var4m0', 'var4m2'])\n",
    "var4m1_churned.head()"
   ]
  },
  {
   "cell_type": "code",
   "execution_count": null,
   "metadata": {},
   "outputs": [],
   "source": [
    "var4m1_not_churned = train_clean.loc[train_clean['churn'] == False].drop(columns=['var1m0', 'var2m0', 'var2m1', 'var2m2', 'var3m0', 'var3m1', 'var3m2', 'var4m0', 'var4m2'])\n",
    "var4m1_not_churned.head()"
   ]
  },
  {
   "cell_type": "markdown",
   "metadata": {},
   "source": [
    "var4m2 churned and not churned subsets "
   ]
  },
  {
   "cell_type": "code",
   "execution_count": null,
   "metadata": {},
   "outputs": [],
   "source": [
    "var4m2_churned = train_clean.loc[train_clean['churn'] == True].drop(columns=['var1m0', 'var2m0', 'var2m1', 'var2m2', 'var3m0', 'var3m1', 'var3m2', 'var4m0', 'var4m1'])\n",
    "var4m2_churned.head()"
   ]
  },
  {
   "cell_type": "code",
   "execution_count": null,
   "metadata": {},
   "outputs": [],
   "source": [
    "var4m2_not_churned = train_clean.loc[train_clean['churn'] == False].drop(columns=['var1m0', 'var2m0', 'var2m1', 'var2m2', 'var3m0', 'var3m1', 'var3m2', 'var4m0', 'var4m1'])\n",
    "var4m2_not_churned.head()"
   ]
  },
  {
   "cell_type": "markdown",
   "metadata": {},
   "source": [
    "# Visualization"
   ]
  },
  {
   "cell_type": "markdown",
   "metadata": {},
   "source": [
    " relationship between the variables var2m1,var3m1,var4m1 and the churn variable"
   ]
  },
  {
   "cell_type": "markdown",
   "metadata": {},
   "source": [
    "1. find the total of churned and not_churned customers in each of the var variables\n",
    "2. create a dataframe out of it \n",
    "3. plot a bar chart out of the dataframe "
   ]
  },
  {
   "cell_type": "code",
   "execution_count": null,
   "metadata": {},
   "outputs": [],
   "source": [
    "#var2m1"
   ]
  },
  {
   "cell_type": "code",
   "execution_count": null,
   "metadata": {},
   "outputs": [],
   "source": [
    "var2m1_churned['churn'].count()"
   ]
  },
  {
   "cell_type": "code",
   "execution_count": null,
   "metadata": {},
   "outputs": [],
   "source": [
    "var2m1_not_churned['churn'].count()"
   ]
  },
  {
   "cell_type": "code",
   "execution_count": null,
   "metadata": {},
   "outputs": [],
   "source": [
    "#var3m1"
   ]
  },
  {
   "cell_type": "code",
   "execution_count": null,
   "metadata": {},
   "outputs": [],
   "source": [
    "var3m1_churned['churn'].count()"
   ]
  },
  {
   "cell_type": "code",
   "execution_count": null,
   "metadata": {},
   "outputs": [],
   "source": [
    "var3m1_not_churned['churn'].count()"
   ]
  },
  {
   "cell_type": "code",
   "execution_count": null,
   "metadata": {},
   "outputs": [],
   "source": []
  }
 ],
 "metadata": {
  "kernelspec": {
   "display_name": "Python 3",
   "language": "python",
   "name": "python3"
  },
  "language_info": {
   "codemirror_mode": {
    "name": "ipython",
    "version": 3
   },
   "file_extension": ".py",
   "mimetype": "text/x-python",
   "name": "python",
   "nbconvert_exporter": "python",
   "pygments_lexer": "ipython3",
   "version": "3.8.5"
  }
 },
 "nbformat": 4,
 "nbformat_minor": 4
}
